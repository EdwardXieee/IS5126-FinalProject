{
 "cells": [
  {
   "cell_type": "markdown",
   "metadata": {},
   "source": [
    "24h data fix "
   ]
  },
  {
   "cell_type": "code",
   "execution_count": 3,
   "metadata": {},
   "outputs": [
    {
     "name": "stdout",
     "output_type": "stream",
     "text": [
      "Q1 - Q4 的各站点每小时的进出情况已分别保存至 'Q1-Q4_station_hourly_counts.csv'\n"
     ]
    }
   ],
   "source": [
    "import pandas as pd\n",
    "\n",
    "# 定义函数来处理每季度数据\n",
    "def process_trip_data(filename):\n",
    "    # 1. 读取数据\n",
    "    df = pd.read_csv(filename)\n",
    "\n",
    "    # 2. 转换时间格式到小时级别\n",
    "    df['start_time'] = pd.to_datetime(df['start_time'])\n",
    "    df['end_time'] = pd.to_datetime(df['end_time'])\n",
    "    df['start_hour'] = df['start_time'].dt.floor('H')\n",
    "    df['end_hour'] = df['end_time'].dt.floor('H')\n",
    "\n",
    "    # 3. 统计每个站点每小时的离站数量\n",
    "    outbound_counts = df.groupby(['from_station_id', 'start_hour']).size().reset_index(name='outbound_count')\n",
    "\n",
    "    # 4. 统计每个站点每小时的到站数量\n",
    "    inbound_counts = df.groupby(['to_station_id', 'end_hour']).size().reset_index(name='inbound_count')\n",
    "\n",
    "    # 5. 重命名列以便合并\n",
    "    outbound_counts = outbound_counts.rename(columns={'from_station_id': 'station_id', 'start_hour': 'hour'})\n",
    "    inbound_counts = inbound_counts.rename(columns={'to_station_id': 'station_id', 'end_hour': 'hour'})\n",
    "\n",
    "    # 6. 合并离站和到站数据\n",
    "    hourly_counts = pd.merge(outbound_counts, inbound_counts, on=['station_id', 'hour'], how='outer').fillna(0)\n",
    "\n",
    "    # 7. 转换出站和入站计数为整数\n",
    "    hourly_counts['outbound_count'] = hourly_counts['outbound_count'].astype(int)\n",
    "    hourly_counts['inbound_count'] = hourly_counts['inbound_count'].astype(int)\n",
    "    \n",
    "    return hourly_counts\n",
    "\n",
    "# 处理Q1和Q2数据\n",
    "q1_data = process_trip_data('Divvy_Trips_2019_Q1.csv')\n",
    "q2_data = process_trip_data('Divvy_Trips_2019_Q2.csv')\n",
    "q3_data = process_trip_data('Divvy_Trips_2019_Q3.csv')\n",
    "q4_data = process_trip_data('Divvy_Trips_2019_Q4.csv')\n",
    "\n",
    "# 保存结果\n",
    "q1_data.to_csv('Q1_station_hourly_counts.csv', index=False)\n",
    "q2_data.to_csv('Q2_station_hourly_counts.csv', index=False)\n",
    "q3_data.to_csv('Q3_station_hourly_counts.csv', index=False)\n",
    "q4_data.to_csv('Q4_station_hourly_counts.csv', index=False)\n",
    "\n",
    "print(\"Q1 - Q4 的各站点每小时的进出情况已分别保存至 'Q1-Q4_station_hourly_counts.csv'\")\n",
    "\n"
   ]
  },
  {
   "cell_type": "code",
   "execution_count": 4,
   "metadata": {},
   "outputs": [
    {
     "name": "stdout",
     "output_type": "stream",
     "text": [
      "进出站差值最多的站点：\n",
      "station_id            195.0\n",
      "outbound_trips      39192.0\n",
      "inbound_trips       24069.0\n",
      "difference_trips    15123.0\n",
      "Name: 177, dtype: float64\n"
     ]
    }
   ],
   "source": [
    "import pandas as pd\n",
    "import glob\n",
    "\n",
    "# 定义一个函数来处理每个季度的数据\n",
    "def process_trip_data(filename):\n",
    "    df = pd.read_csv(filename)\n",
    "    df['start_time'] = pd.to_datetime(df['start_time'])\n",
    "    df['end_time'] = pd.to_datetime(df['end_time'])\n",
    "\n",
    "    # 计算每个站点的出站数量\n",
    "    outbound_counts = df.groupby('from_station_id').size().reset_index(name='outbound_trips')\n",
    "    \n",
    "    # 计算每个站点的入站数量\n",
    "    inbound_counts = df.groupby('to_station_id').size().reset_index(name='inbound_trips')\n",
    "\n",
    "    # 合并出站和入站数据\n",
    "    station_counts = pd.merge(outbound_counts, inbound_counts, left_on='from_station_id', right_on='to_station_id', how='outer')\n",
    "    station_counts['outbound_trips'] = station_counts['outbound_trips'].fillna(0).astype(int)\n",
    "    station_counts['inbound_trips'] = station_counts['inbound_trips'].fillna(0).astype(int)\n",
    "    station_counts['difference_trips'] = abs(station_counts['outbound_trips'] - station_counts['inbound_trips'])\n",
    "    \n",
    "    # 创建统一的 station_id 列\n",
    "    station_counts['station_id'] = station_counts['from_station_id'].combine_first(station_counts['to_station_id'])\n",
    "\n",
    "    # 选择所需的列\n",
    "    station_counts = station_counts[['station_id', 'outbound_trips', 'inbound_trips', 'difference_trips']]\n",
    "    \n",
    "    return station_counts\n",
    "\n",
    "# 读取 Q1 到 Q4 的数据文件\n",
    "all_data = pd.DataFrame()\n",
    "files = ['Divvy_Trips_2019_Q1.csv', 'Divvy_Trips_2019_Q2.csv', 'Divvy_Trips_2019_Q3.csv', 'Divvy_Trips_2019_Q4.csv']\n",
    "\n",
    "# 合并四个季度的数据\n",
    "for file in files:\n",
    "    quarter_data = process_trip_data(file)\n",
    "    all_data = pd.concat([all_data, quarter_data])\n",
    "\n",
    "# 按 station_id 汇总所有季度的出站和入站数据\n",
    "total_counts = all_data.groupby('station_id').sum().reset_index()\n",
    "\n",
    "# 找出进出站差值最多的站点\n",
    "max_difference_station = total_counts.loc[total_counts['difference_trips'].idxmax()]\n",
    "\n",
    "# 输出结果\n",
    "print(\"进出站差值最多的站点：\")\n",
    "print(max_difference_station)\n",
    "\n",
    "# 保存最终结果（可选）\n",
    "total_counts.to_csv('annual_station_trip_counts.csv', index=False)\n"
   ]
  },
  {
   "cell_type": "code",
   "execution_count": null,
   "metadata": {},
   "outputs": [],
   "source": []
  }
 ],
 "metadata": {
  "kernelspec": {
   "display_name": "Python 3",
   "language": "python",
   "name": "python3"
  },
  "language_info": {
   "codemirror_mode": {
    "name": "ipython",
    "version": 3
   },
   "file_extension": ".py",
   "mimetype": "text/x-python",
   "name": "python",
   "nbconvert_exporter": "python",
   "pygments_lexer": "ipython3",
   "version": "3.11.4"
  }
 },
 "nbformat": 4,
 "nbformat_minor": 2
}
